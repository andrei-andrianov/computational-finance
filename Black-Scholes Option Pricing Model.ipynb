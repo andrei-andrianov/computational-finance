{
 "cells": [
  {
   "cell_type": "markdown",
   "metadata": {},
   "source": [
    "# Black-Scholes Option Pricing Model"
   ]
  },
  {
   "cell_type": "markdown",
   "metadata": {},
   "source": [
    "Black–Scholes–Merton model is a mathematical model for the dynamics of a financial market containing derivative investment instruments. From the partial differential equation in the model, known as the Black–Scholes equation, one can deduce the Black–Scholes formula, which gives a theoretical estimate of the price of European-style options and shows that the option has a unique price regardless of the risk of the security and its expected return (instead replacing the security's expected return with the risk-neutral rate).\n",
    "\n",
    "The key idea behind the model is to hedge the option by buying and selling the underlying asset in just the right way and, as a consequence, to eliminate risk. This type of hedging is called \"continuously revised delta hedging\" and is the basis of more complicated hedging strategies such as those engaged in by investment banks and hedge funds."
   ]
  },
  {
   "cell_type": "markdown",
   "metadata": {},
   "source": [
    "The Black–Scholes model assumes that the market consists of at least one risky asset, usually called the stock, and one riskless asset, usually called the money market, cash, or bond.\n",
    "\n",
    "Now we make assumptions on the assets (which explain their names):\n",
    "\n",
    "- (riskless rate) The rate of return on the riskless asset is constant and thus called the risk-free interest rate.\n",
    "- (random walk) The instantaneous log return of stock price is an infinitesimal random walk with drift; more precisely, it is a geometric Brownian motion, and we will assume its drift and volatility are constant (if they are time-varying, we can deduce a suitably modified Black–Scholes formula quite simply, as long as the volatility is not random).\n",
    "- The stock does not pay a dividend."
   ]
  },
  {
   "cell_type": "markdown",
   "metadata": {},
   "source": [
    "Assumptions on the market:\n",
    "\n",
    "- There is no arbitrage opportunity (i.e., there is no way to make a riskless profit).\n",
    "- It is possible to borrow and lend any amount, even fractional, of cash at the riskless rate.\n",
    "- It is possible to buy and sell any amount, even fractional, of the stock (this includes short selling).\n",
    "- The above transactions do not incur any fees or costs (i.e., frictionless market).\n"
   ]
  },
  {
   "cell_type": "markdown",
   "metadata": {},
   "source": [
    "The Black-Scholes formula:\n",
    "\n",
    "\\begin{equation}\n",
    "\\frac{\\partial V}{ \\partial t} + \\frac{1}{2}\\sigma^{2} S^{2} \\frac{\\partial^{2} V}{\\partial S^2} + r S \\frac{\\partial V}{\\partial S} - r V = 0\n",
    "\\end{equation}"
   ]
  },
  {
   "cell_type": "markdown",
   "metadata": {},
   "source": [
    "\"The Greeks\" measure the sensitivity of the value of a derivative or a portfolio to changes in parameter value(s) while holding the other parameters fixed. They are partial derivatives of the price with respect to the parameter values. One Greek, \"gamma\" is a partial derivative of another Greek, \"delta\" in this case.\n",
    "\n",
    "The Greeks are important not only in the mathematical theory of finance, but also for those actively trading. Financial institutions will typically set (risk) limit values for each of the Greeks that their traders must not exceed. Delta is the most important Greek since this usually confers the largest risk. Many traders will zero their delta at the end of the day if they are speculating and following a delta-neutral hedging approach as defined by Black–Scholes.\n",
    "Typically the following Greeks are of interest: Delta, Vega and Gamma."
   ]
  },
  {
   "cell_type": "markdown",
   "metadata": {},
   "source": [
    "Black-Scholes Call and Put Option Price Formulas:\n",
    "\n",
    "$C=S_{0}*N(d_{1})-Ke^{-rt}*N(d_{2})$\n",
    "\n",
    "$P=Ke^{-rt}*N(-d_{2})-S_{0}*N(-d_{1})$\n",
    "\n",
    "where $N(x)$ is the standard normal cumulative distribution function\n",
    "\n",
    "$d_{1}=\\frac{\\ln{\\frac{S_{o}}{K}}+t(r+\\frac{\\sigma^{2}}{2})}{\\sigma\\sqrt{t}}$\n",
    "\n",
    "$d_{2}=d_{1}-\\sigma\\sqrt{t}$"
   ]
  },
  {
   "cell_type": "code",
   "execution_count": 5,
   "metadata": {
    "collapsed": true
   },
   "outputs": [],
   "source": [
    "import math\n",
    "from scipy import stats"
   ]
  },
  {
   "cell_type": "code",
   "execution_count": 6,
   "metadata": {},
   "outputs": [],
   "source": [
    "# Option parameters\n",
    "\n",
    "K = 110 # strike price\n",
    "r = .04 # interest rate\n",
    "sigma = .3 # volatility - standard deviation of the stock\n",
    "T = 1 # time maturity\n",
    "S0 = 100 # starting price of the stock"
   ]
  },
  {
   "cell_type": "code",
   "execution_count": 7,
   "metadata": {
    "collapsed": true
   },
   "outputs": [],
   "source": [
    "def get_black_scholes_simulation_results(K, r, sigma, T, S0, is_call=True):\n",
    "    \"\"\"\n",
    "    Calculates option price using Black-Scholes model, \n",
    "    returns the option value and the dict of calculated greeks in the form of a list\n",
    "    \"\"\"\n",
    "    d1 = (math.log(S0 / K) + \n",
    "          (r + (0.5 * sigma**2)) * T) / (sigma * math.sqrt(T))\n",
    "    d2 = d1 - (sigma * math.sqrt(T))\n",
    "\n",
    "    if is_call:\n",
    "        call_value = S0 * stats.norm.cdf(d1, 0, 1) - K * math.exp(\n",
    "            -r * T) * stats.norm.cdf(d2, 0, 1)\n",
    "        delta_call = stats.norm.cdf(d1, 0, 1)\n",
    "        gamma_call = stats.norm.pdf(d1, 0, 1) / (S0 * sigma * math.sqrt(T))\n",
    "        theta_call = -(r * K * math.exp(-r * T) * stats.norm.cdf(d2, 0, 1)) - (\n",
    "            sigma * S0 * stats.norm.pdf(d1, 0, 1) / (2 * math.sqrt(T)))\n",
    "        rho_call = T * K * math.exp(-r * T) * stats.norm.cdf(d2, 0, 1)\n",
    "        vega_call = math.sqrt(T) * S0 * stats.norm.pdf(d1, 0, 1)\n",
    "\n",
    "        return [\n",
    "            call_value, {\n",
    "                'delta': delta_call,\n",
    "                'gamma': gamma_call,\n",
    "                'theta': theta_call,\n",
    "                'rho': rho_call,\n",
    "                'vega': vega_call\n",
    "            }\n",
    "        ]\n",
    "\n",
    "    else:\n",
    "        put_value = K * math.exp(-r * T) * stats.norm.cdf(-d2, 0, 1) - (\n",
    "            S0 * stats.norm.cdf(-d1, 0, 1))\n",
    "        delta_put = -stats.norm.cdf(-d1, 0, 1)\n",
    "        gamma_put = stats.norm.pdf(d1, 0, 1) / (S0 * sigma * math.sqrt(T))\n",
    "        theta_put = (r * K * math.exp(-r * T) * stats.norm.cdf(-d2, 0, 1)) - (\n",
    "            sigma * S0 * stats.norm.pdf(d1, 0, 1) / (2 * math.sqrt(T)))\n",
    "        rho_put = -T * K * math.exp(-r * T) * stats.norm.cdf(-d2, 0, 1)\n",
    "        vega_put = math.sqrt(T) * S0 * stats.norm.pdf(d1, 0, 1)\n",
    "\n",
    "        return [\n",
    "            put_value, {\n",
    "                'delta': delta_put,\n",
    "                'gamma': gamma_put,\n",
    "                'theta': theta_put,\n",
    "                'rho': rho_put,\n",
    "                'vega': vega_put\n",
    "            }\n",
    "        ]"
   ]
  },
  {
   "cell_type": "code",
   "execution_count": 9,
   "metadata": {
    "scrolled": true
   },
   "outputs": [
    {
     "name": "stdout",
     "output_type": "stream",
     "text": [
      "\n",
      "Vanila European Call:\n",
      "\n",
      "Value: 9.625357828843697\n",
      "Delta: 0.48629214299030143\n",
      "\n",
      "Vanila European Put:\n",
      "\n",
      "Value: 15.312196135599244\n",
      "Delta: -0.5137078570096986\n"
     ]
    }
   ],
   "source": [
    "bs_call_results = get_black_scholes_simulation_results(K, r, sigma, T, S0)\n",
    "bs_put_results = get_black_scholes_simulation_results(K, r, sigma, T, S0, is_call=False)\n",
    "\n",
    "print('\\nVanila European Call:\\n' + '\\nValue: ' + str(bs_call_results[0]) + '\\nDelta: ' +\n",
    "      str(bs_call_results[1]['delta']))\n",
    "print('\\nVanila European Put:\\n' + '\\nValue: ' + str(bs_put_results[0]) + '\\nDelta: ' +\n",
    "      str(bs_put_results[1]['delta']))"
   ]
  }
 ],
 "metadata": {
  "kernelspec": {
   "display_name": "Python 3",
   "language": "python",
   "name": "python3"
  },
  "language_info": {
   "codemirror_mode": {
    "name": "ipython",
    "version": 3
   },
   "file_extension": ".py",
   "mimetype": "text/x-python",
   "name": "python",
   "nbconvert_exporter": "python",
   "pygments_lexer": "ipython3",
   "version": "3.7.1"
  }
 },
 "nbformat": 4,
 "nbformat_minor": 2
}
